{
 "cells": [
  {
   "cell_type": "markdown",
   "id": "13ff0af9",
   "metadata": {},
   "source": [
    "# CS5901 - P2\n",
    "### Stage 1. Data cleaning and profiling\n",
    "1. Import the data as a pandas dataframe\n",
    "2. Identify and remove any data rows that make no sense\n",
    "3. Replace any missing values in T3 and T4 with average values for their specific level\n",
    "4. Write code ‑ without using pandas.describe() ‑ that presents a table of descriptive statistics for each column, then compare you results to those obtained using pandas.describe()\n",
    "5. Write code that identifies any repeated rows or confirms that there are none"
   ]
  },
  {
   "cell_type": "markdown",
   "id": "93769909",
   "metadata": {},
   "source": [
    "### Overview of dataset"
   ]
  },
  {
   "cell_type": "code",
   "execution_count": 1,
   "id": "788f5927",
   "metadata": {},
   "outputs": [],
   "source": [
    "import pandas as pd\n",
    "import numpy as np\n",
    "import time\n",
    "import gc\n",
    "import psutil\n",
    "import os\n",
    "# Additional package\n",
    "import sys\n",
    "import random # Try to avoid"
   ]
  },
  {
   "cell_type": "code",
   "execution_count": null,
   "id": "bb2ab484",
   "metadata": {},
   "outputs": [],
   "source": [
    "df = pd.read_csv('P2data2799.csv', sep=r'\\t', engine='python')"
   ]
  },
  {
   "cell_type": "code",
   "execution_count": null,
   "id": "c2aa179e",
   "metadata": {},
   "outputs": [],
   "source": [
    "print(df.info(), '\\n')\n",
    "print(df.shape)\n",
    "df"
   ]
  },
  {
   "cell_type": "code",
   "execution_count": null,
   "id": "e9ad48b1",
   "metadata": {},
   "outputs": [],
   "source": [
    "# Clean up columns headers\n",
    "df = df.rename(columns={'\"Level': 'Level'})\n",
    "df = df.rename(columns={'T4adjusted\"': 'T4adjusted'})\n",
    "df.columns"
   ]
  },
  {
   "cell_type": "markdown",
   "id": "c0d7d2d0",
   "metadata": {},
   "source": [
    "### Data cleaning and converting data types"
   ]
  },
  {
   "cell_type": "code",
   "execution_count": null,
   "id": "6bbc379f",
   "metadata": {},
   "outputs": [],
   "source": [
    "# Remove quotes from the columns\n",
    "df['Level'] = df['Level'].str.replace('\"', '')\n",
    "df['T4adjusted'] = df['T4adjusted'].str.replace('\"', '')\n",
    "\n",
    "# Replace blank values with np.nan\n",
    "df['T4adjusted'] = df['T4adjusted'].replace('', np.nan)"
   ]
  },
  {
   "cell_type": "code",
   "execution_count": null,
   "id": "27e024ba",
   "metadata": {},
   "outputs": [],
   "source": [
    "df.select_dtypes('object').columns"
   ]
  },
  {
   "cell_type": "code",
   "execution_count": null,
   "id": "076bf12a",
   "metadata": {},
   "outputs": [],
   "source": [
    "# Convert Object dtypes into numeric\n",
    "df['Level'] = df['Level'].astype('int')\n",
    "df['T4adjusted'] = df['T4adjusted'].astype('float64')\n",
    "df.dtypes"
   ]
  },
  {
   "cell_type": "code",
   "execution_count": null,
   "id": "657acda2",
   "metadata": {},
   "outputs": [],
   "source": [
    "# Check out unique and # unique values\n",
    "for col in df.columns:\n",
    "    print(f\"\\033[1m{col}\\033[0m:\")\n",
    "    print('Dtype:', df[col].dtypes)\n",
    "    print('Unique values:', df[col].unique()[:5])\n",
    "    print('Number of Unique values:', df[col].nunique(), '\\n')"
   ]
  },
  {
   "cell_type": "markdown",
   "id": "0b529a84",
   "metadata": {},
   "source": [
    "### Handling missing values"
   ]
  },
  {
   "cell_type": "code",
   "execution_count": null,
   "id": "f544c710",
   "metadata": {},
   "outputs": [],
   "source": [
    "# Check out proportion of missing values\n",
    "null_count = df.isnull().sum()\n",
    "null_count_df = pd.DataFrame(null_count, columns=['null count'])\n",
    "null_count_df['null count %'] = null_count_df['null count'] / len(null_count_df)\n",
    "null_count_df['null count %'] = [f'{i}%' for i in null_count_df['null count %']]\n",
    "null_count_df"
   ]
  },
  {
   "cell_type": "code",
   "execution_count": null,
   "id": "ecb520ab",
   "metadata": {},
   "outputs": [],
   "source": [
    "# Visualise proportion of missing values\n",
    "plot_df = pd.DataFrame(null_count_df.index, columns=['variables'])\n",
    "plot_df['null count'] = null_count_df['null count'].tolist()\n",
    "plot_df.plot(kind='bar', x='variables', y='null count', figsize=(5,3))"
   ]
  },
  {
   "cell_type": "code",
   "execution_count": null,
   "id": "7600fac8",
   "metadata": {},
   "outputs": [],
   "source": [
    "# Impute missing values with column average\n",
    "df['T4'].fillna(df['T4'].mean(), inplace=True)\n",
    "df['T3'].fillna(df['T3'].mean(), inplace=True)\n",
    "df['T4adjusted'].fillna(df['T4adjusted'].mean(), inplace=True)\n",
    "df['T3adjusted'].fillna(df['T3adjusted'].mean(), inplace=True)\n",
    "\n",
    "# Confirm zero missing values\n",
    "df.isnull().sum().sum()"
   ]
  },
  {
   "cell_type": "markdown",
   "id": "8d1dc466",
   "metadata": {},
   "source": [
    "### Duplicate rows\n",
    "- All 3 method are showing the same results in that there are 21 pairs of duplicate rows\n",
    "- For each pair of duplicate rows, a single row will be removed, so we are left with a dataset with all unique rows"
   ]
  },
  {
   "cell_type": "code",
   "execution_count": null,
   "id": "b1899d43",
   "metadata": {},
   "outputs": [],
   "source": [
    "# Method 1 (unique key method/Excel inspired)\n",
    "def find_duplicate_rows(df):\n",
    "    \n",
    "    # Create a unique key by concatenating the values for each row\n",
    "    df['Unique_Key'] = df.apply(lambda row: '/'.join(row.astype(str)), axis=1)\n",
    "\n",
    "    # Count the occurrences of each unique key\n",
    "    key_counts = df['Unique_Key'].value_counts()\n",
    "\n",
    "    # Select the rows with a count greater than 1\n",
    "    duplicate_rows = df[df['Unique_Key'].isin(key_counts[key_counts > 1].index)]\n",
    "\n",
    "    return duplicate_rows"
   ]
  },
  {
   "cell_type": "code",
   "execution_count": null,
   "id": "e61a20fa",
   "metadata": {},
   "outputs": [],
   "source": [
    "print('Count of pairs of duplicate rows:', round(len(find_duplicate_rows(df)) / 2))\n",
    "find_duplicate_rows(df).head()"
   ]
  },
  {
   "cell_type": "code",
   "execution_count": null,
   "id": "d2fd9a82",
   "metadata": {},
   "outputs": [],
   "source": [
    "# Method 2 (count the duplicates)\n",
    "df['Unique_Key'].value_counts().values"
   ]
  },
  {
   "cell_type": "code",
   "execution_count": null,
   "id": "328e5368",
   "metadata": {},
   "outputs": [],
   "source": [
    "# Method 3 (built-in method)\n",
    "print('Count of pairs of duplicate rows:', df.duplicated().value_counts()[1])"
   ]
  },
  {
   "cell_type": "code",
   "execution_count": null,
   "id": "a99b0696",
   "metadata": {},
   "outputs": [],
   "source": [
    "# Drop duplicate rows\n",
    "df['Duplicates'] = df.duplicated()\n",
    "df = df[df['Duplicates'] != True]\n",
    "# Confirm zero duplicate rows\n",
    "print('Count of pairs of duplicate rows:', df.duplicated().sum())\n",
    "\n",
    "# Drop helper columns\n",
    "df = df.drop(columns='Unique_Key')\n",
    "df = df.drop(columns='Duplicates')"
   ]
  },
  {
   "cell_type": "markdown",
   "id": "8d2f8b70",
   "metadata": {},
   "source": [
    "### Descriptive statistics\n",
    "- Successfully reconstructed `pandas.describe()` from scratch with 100% accuracy"
   ]
  },
  {
   "cell_type": "code",
   "execution_count": null,
   "id": "1ead9677",
   "metadata": {},
   "outputs": [],
   "source": [
    "# Construct pandas.describe() from scratch\n",
    "def descriptive_statistics(df):\n",
    "    stats_dict = {}\n",
    "    for col in df.columns:\n",
    "        stats_dict[col] = {\n",
    "            'count': df[col].count(),\n",
    "            'mean': df[col].mean(),\n",
    "            'std': df[col].std(),\n",
    "            'min': df[col].min(),\n",
    "            '25%': df[col].quantile(0.25),\n",
    "            '50%': df[col].quantile(0.5),\n",
    "            '75%': df[col].quantile(0.75),\n",
    "            'max': df[col].max()\n",
    "        }\n",
    "    stats_df = pd.DataFrame(stats_dict).round()\n",
    "    return stats_df"
   ]
  },
  {
   "cell_type": "code",
   "execution_count": null,
   "id": "34c6b2e5",
   "metadata": {},
   "outputs": [],
   "source": [
    "# Call function\n",
    "descriptive_statistics(df)"
   ]
  },
  {
   "cell_type": "code",
   "execution_count": null,
   "id": "8e40e2f0",
   "metadata": {},
   "outputs": [],
   "source": [
    "# Call pd.describe()\n",
    "df.describe().round()"
   ]
  },
  {
   "cell_type": "markdown",
   "id": "296ab530",
   "metadata": {},
   "source": [
    "## Stage 2. Time and space complexity\n",
    "- The code below is an undocumented example of one way to find the CPU time and RAM space needed to perform calculations on randomly generated data, and investigate how the time and space needed grows as the size of the problem increases\n",
    "- Using adaptations of the code below, or the method of your choice, investigate the time and space needed for:\n",
    "1. Standard matrix multiplication (for time this should be where is a non‑negative constant)\n",
    "2. Sorting an unordered list of integers inefficiently by searching for the smallest element, then the next smallest,...\n",
    "3. A comparison of Python's find() method and your loop‑based implementation of a method that checks if one string is a substring of another"
   ]
  },
  {
   "cell_type": "markdown",
   "id": "b8bf542b",
   "metadata": {},
   "source": [
    "## Key points\n",
    "- All your code should be in fully documented .py files\n",
    "- Your notebook should import and demonstrate the code\n",
    "- For task two, you need to understand what myInv() does\n",
    "- For task two, a scatter plot of (time,size) and/or (space,size) is often a good way to visualise the complexity\n",
    "- For most tasks, there is no single correct answer ‑ the idea is to show that you can write code that provides a better understanding of both data and the complexity of methods used in Data Science\n",
    "- As for the first practical, the aim is to use the smallest number of external libraries in order to develop core Python skills\n",
    "- If you have problems generating inline plots in Jupyter without using matpotlib, then it is acceptable to also import this package."
   ]
  },
  {
   "cell_type": "markdown",
   "id": "fe5a0422",
   "metadata": {},
   "source": [
    "### Matrix multiplication"
   ]
  },
  {
   "cell_type": "code",
   "execution_count": 21,
   "id": "eed77713",
   "metadata": {},
   "outputs": [],
   "source": [
    "class Matrix_Multiplication:\n",
    "    def __init__(self, size):\n",
    "        self.size = size\n",
    "        \n",
    "    def run_matrix_multiplication(self):\n",
    "        A = np.random.randint(0, 101, (self.size, self.size))\n",
    "        B = np.random.randint(0, 101, (self.size, self.size))\n",
    "        result = A @ B\n",
    "        return result\n",
    "    \n",
    "    def get_time_and_space(self):\n",
    "        \"\"\"\n",
    "        Investigates the time and space needed for the selection_sort function.\n",
    "        \"\"\"\n",
    "        # Measure time taken\n",
    "        start_time = time.time()\n",
    "        self.run_matrix_multiplication() # Call method run_matrix_multiplication\n",
    "        end_time = time.time()\n",
    "        time_taken = end_time - start_time\n",
    "        \n",
    "        # Measure space usage for func\n",
    "        memory_usage = sys.getsizeof(self.run_matrix_multiplication()) # Call method run_matrix_multiplication\n",
    "        \n",
    "        return time_taken, memory_usage"
   ]
  },
  {
   "cell_type": "code",
   "execution_count": 22,
   "id": "fa6b5d2a",
   "metadata": {},
   "outputs": [],
   "source": [
    "example = Matrix_Multiplication(1000)"
   ]
  },
  {
   "cell_type": "code",
   "execution_count": 23,
   "id": "c509d490",
   "metadata": {},
   "outputs": [
    {
     "data": {
      "text/plain": [
       "array([[2488227, 2446311, 2533229, ..., 2513479, 2522952, 2511827],\n",
       "       [2451315, 2459316, 2546512, ..., 2536332, 2552932, 2509116],\n",
       "       [2529128, 2457646, 2547155, ..., 2496775, 2551992, 2560312],\n",
       "       ...,\n",
       "       [2440602, 2377575, 2482262, ..., 2476113, 2433822, 2458283],\n",
       "       [2436098, 2476674, 2524424, ..., 2504025, 2506572, 2479822],\n",
       "       [2540383, 2563099, 2614121, ..., 2600938, 2630475, 2597902]])"
      ]
     },
     "execution_count": 23,
     "metadata": {},
     "output_type": "execute_result"
    }
   ],
   "source": [
    "example.run_matrix_multiplication()"
   ]
  },
  {
   "cell_type": "code",
   "execution_count": 24,
   "id": "306cf81e",
   "metadata": {},
   "outputs": [
    {
     "data": {
      "text/plain": [
       "(0.45029377937316895, 8000128)"
      ]
     },
     "execution_count": 24,
     "metadata": {},
     "output_type": "execute_result"
    }
   ],
   "source": [
    "example.get_time_and_space()"
   ]
  },
  {
   "cell_type": "code",
   "execution_count": 25,
   "id": "b5636406",
   "metadata": {},
   "outputs": [
    {
     "name": "stdout",
     "output_type": "stream",
     "text": [
      "Size: 250\n",
      "Time taken: 0.01749 seconds\n",
      "Memory usage: 0.48 MB \n",
      "\n",
      "Size: 500\n",
      "Time taken: 0.06385 seconds\n",
      "Memory usage: 1.91 MB \n",
      "\n",
      "Size: 750\n",
      "Time taken: 0.16021 seconds\n",
      "Memory usage: 4.29 MB \n",
      "\n",
      "Size: 1000\n",
      "Time taken: 0.43508 seconds\n",
      "Memory usage: 7.63 MB \n",
      "\n",
      "Size: 1250\n",
      "Time taken: 0.98221 seconds\n",
      "Memory usage: 11.92 MB \n",
      "\n",
      "Size: 1500\n",
      "Time taken: 2.15811 seconds\n",
      "Memory usage: 17.17 MB \n",
      "\n",
      "Size: 1750\n",
      "Time taken: 4.87784 seconds\n",
      "Memory usage: 23.37 MB \n",
      "\n",
      "Size: 2000\n",
      "Time taken: 7.78469 seconds\n",
      "Memory usage: 30.52 MB \n",
      "\n",
      "Size: 2250\n",
      "Time taken: 17.92952 seconds\n",
      "Memory usage: 38.62 MB \n",
      "\n",
      "Size: 2500\n",
      "Time taken: 22.59784 seconds\n",
      "Memory usage: 47.68 MB \n",
      "\n"
     ]
    }
   ],
   "source": [
    "# Example usage:\n",
    "sizes = [250, 500, 750, 1000, 1250, 1500, 1750, 2000, 2250, 2500]\n",
    "\n",
    "size_ls = []\n",
    "time_ls = []\n",
    "memory_ls = []\n",
    "\n",
    "for size in sizes:\n",
    "    # Instantiate class and call get_time_and_space() for the given sizes\n",
    "    multiplier = Matrix_Multiplication(size)\n",
    "    time_taken, memory_usage = multiplier.get_time_and_space()\n",
    "    \n",
    "    print(f'Size: {size}')\n",
    "    print(f'Time taken: {time_taken:.5f} seconds')\n",
    "    print(f'Memory usage: {memory_usage / (1024 * 1024):.2f} MB \\n')\n",
    "    \n",
    "    # Append results\n",
    "    size_ls.append(size)\n",
    "    time_ls.append(time_taken)\n",
    "    memory_ls.append(memory_usage)"
   ]
  },
  {
   "cell_type": "code",
   "execution_count": 26,
   "id": "9c7d7fd9",
   "metadata": {},
   "outputs": [
    {
     "name": "stdout",
     "output_type": "stream",
     "text": [
      "[0.017, 0.064, 0.16, 0.435, 0.982, 2.158, 4.878, 7.785, 17.93, 22.598]\n",
      "[0.48, 1.91, 4.29, 7.63, 11.92, 17.17, 23.37, 30.52, 38.62, 47.68]\n",
      "[250, 500, 750, 1000, 1250, 1500, 1750, 2000, 2250, 2500]\n"
     ]
    }
   ],
   "source": [
    "time_ls = [round(i, 3) for i in time_ls]\n",
    "memory_ls = [round(i / (1024 * 1024), 2) for i in memory_ls] # Divide by 1024 * 1024 to convert to MB\n",
    "\n",
    "print(time_ls)\n",
    "print(memory_ls)\n",
    "print(size_ls)"
   ]
  },
  {
   "cell_type": "code",
   "execution_count": 27,
   "id": "04e2c803",
   "metadata": {},
   "outputs": [
    {
     "data": {
      "text/plain": [
       "array([[<Axes: xlabel='Sizes'>, <Axes: xlabel='Sizes'>]], dtype=object)"
      ]
     },
     "execution_count": 27,
     "metadata": {},
     "output_type": "execute_result"
    },
    {
     "data": {
      "image/png": "[encoded data removed]",
      "text/plain": [
       "<Figure size 1200x400 with 2 Axes>"
      ]
     },
     "metadata": {},
     "output_type": "display_data"
    }
   ],
   "source": [
    "# Resource: https://pandas.pydata.org/docs/user_guide/visualization.html\n",
    "results = {'Sizes': size_ls,\n",
    "           'Time (S)': time_ls,\n",
    "           'Memory (MB)': memory_ls}\n",
    "\n",
    "results = pd.DataFrame(results)\n",
    "results.set_index('Sizes', inplace=True)\n",
    "results.plot(subplots=True, layout=(1, 2), figsize=(12, 4))"
   ]
  },
  {
   "cell_type": "markdown",
   "id": "f40c8495",
   "metadata": {},
   "source": [
    "## Task 2.2 - Sorting\n",
    "### Selection Sort\n",
    "- Objective is to investigate the time and space needed for \"sorting an unordered list of integers inefficiently by searching for the smallest element, then the next smallest\"\n",
    "- For this task, I'll use the **Selection Sort** method which divides the list into 2 parts, the sorted part on the left and the unsorted part on the right. Time complexity is O(n^2) (quadratic time complexity) and space is complexity of O(1) for Selection Sort algorithm\n",
    "- https://www.geeksforgeeks.org/time-and-space-complexity-analysis-of-selection-sort/\n",
    "- https://www.studysmarter.co.uk/explanations/computer-science/algorithms-in-computer-science/selection-sort/#:~:text=Selection%20Sort%20has%20a%20time,the%20size%20of%20the%20input."
   ]
  },
  {
   "cell_type": "markdown",
   "id": "6dc15017",
   "metadata": {},
   "source": [
    "### V1 - Original (with comments)"
   ]
  },
  {
   "cell_type": "code",
   "execution_count": 28,
   "id": "b23a729a",
   "metadata": {},
   "outputs": [],
   "source": [
    "# https://www.youtube.com/watch?v=ee80YmiaSVQ\n",
    "\n",
    "def selection_sort(arr):\n",
    "    for i in range(0, len(arr) - 1): # -1 to exclude last element - nothing to compare to\n",
    "        cur_min = i # Initialize default value to do comparisons\n",
    "        for j in range(i + 1, len(arr)): # i+1 to do comparisons on unsorted sub-list\n",
    "            if arr[j] < arr[cur_min]: # if j < cur_min, set cur_min = j\n",
    "                cur_min = j\n",
    "        \n",
    "        # This approach uses a temporary variable temp to hold the value of arr[i], \n",
    "        # then assigns the value of arr[cur_min] to arr[i], and finally assigns \n",
    "        # the value of temp to arr[cur_min] --> i.e. swapping\n",
    "        temp = arr[i]\n",
    "        arr[i] = arr[cur_min]\n",
    "        arr[cur_min] = temp\n",
    "        \n",
    "        # This code also works!!!\n",
    "        #arr[i], arr[cur_min] = arr[cur_min], arr[i] # swap\n",
    "        \n",
    "    return(arr)"
   ]
  },
  {
   "cell_type": "code",
   "execution_count": 29,
   "id": "562216f2",
   "metadata": {},
   "outputs": [
    {
     "data": {
      "text/plain": [
       "[17, 4, 12, 19, 13, 9, 2, 22, 16, 1, 7, 20, 3]"
      ]
     },
     "execution_count": 29,
     "metadata": {},
     "output_type": "execute_result"
    }
   ],
   "source": [
    "arr = [17, 4, 12, 19, 13, 9, 2, 22, 16, 1, 7, 20, 3]\n",
    "arr"
   ]
  },
  {
   "cell_type": "code",
   "execution_count": 30,
   "id": "1f9f3bd0",
   "metadata": {},
   "outputs": [
    {
     "name": "stdout",
     "output_type": "stream",
     "text": [
      "Unsorted array: [17, 4, 12, 19, 13, 9, 2, 22, 16, 1, 7, 20, 3]\n",
      "Sorted array: [1, 2, 3, 4, 7, 9, 12, 13, 16, 17, 19, 20, 22]\n"
     ]
    }
   ],
   "source": [
    "print('Unsorted array:', arr)\n",
    "print('Sorted array:', selection_sort(arr))"
   ]
  },
  {
   "cell_type": "markdown",
   "id": "714bfde0",
   "metadata": {},
   "source": [
    "### V2 - Class\n",
    "- Consider **not** going through with a class since I will need to use `investigate_time_and_space` function for the 3 other tasks repeatedly. Or potentially do go though with it since you need to instantiate `self.selection_sort_final()` inside the class"
   ]
  },
  {
   "cell_type": "code",
   "execution_count": 31,
   "id": "3e566e10",
   "metadata": {},
   "outputs": [],
   "source": [
    "class SelectionSort:\n",
    "    def __init__(self, size):\n",
    "        self.size = size\n",
    "\n",
    "    def run_selection_sort(self):\n",
    "        \"\"\"\n",
    "        Generates a random array of integers with the specified size,\n",
    "        then sorts it using the selection sort algorithm.\n",
    "        \"\"\"\n",
    "        random_array = np.random.randint(low=0, high=100, size=self.size, dtype=int)\n",
    "        \n",
    "        for i in range(0, len(random_array) - 1):\n",
    "            cur_min = i\n",
    "            for j in range(i + 1, len(random_array)):\n",
    "                if random_array[j] < random_array[cur_min]:\n",
    "                    cur_min = j\n",
    "                    \n",
    "            temp = random_array[i]\n",
    "            random_array[i] = random_array[cur_min]\n",
    "            random_array[cur_min] = temp\n",
    "        \n",
    "        return random_array\n",
    "\n",
    "    def get_time_and_space(self):\n",
    "        \"\"\"\n",
    "        Investigates the time and space needed for the selection_sort function.\n",
    "        \"\"\"\n",
    "        # Measure time taken\n",
    "        start_time = time.time()\n",
    "        self.run_selection_sort()\n",
    "        end_time = time.time()\n",
    "        time_taken = end_time - start_time\n",
    "        \n",
    "        # Measure space usage\n",
    "        memory_usage = sys.getsizeof(self.run_selection_sort())\n",
    "        \n",
    "        return time_taken, memory_usage"
   ]
  },
  {
   "cell_type": "code",
   "execution_count": 32,
   "id": "78ac65e4",
   "metadata": {},
   "outputs": [],
   "source": [
    "example = SelectionSort(10)"
   ]
  },
  {
   "cell_type": "code",
   "execution_count": 33,
   "id": "6e5e0caa",
   "metadata": {},
   "outputs": [
    {
     "data": {
      "text/plain": [
       "array([ 7, 17, 21, 32, 46, 73, 76, 77, 86, 90])"
      ]
     },
     "execution_count": 33,
     "metadata": {},
     "output_type": "execute_result"
    }
   ],
   "source": [
    "example.run_selection_sort()"
   ]
  },
  {
   "cell_type": "code",
   "execution_count": 34,
   "id": "ac46b946",
   "metadata": {},
   "outputs": [
    {
     "data": {
      "text/plain": [
       "(9.393692016601562e-05, 192)"
      ]
     },
     "execution_count": 34,
     "metadata": {},
     "output_type": "execute_result"
    }
   ],
   "source": [
    "example.get_time_and_space()"
   ]
  },
  {
   "cell_type": "code",
   "execution_count": 35,
   "id": "edf7dc02",
   "metadata": {},
   "outputs": [
    {
     "name": "stdout",
     "output_type": "stream",
     "text": [
      "Size: 5000\n",
      "Time taken: 1.08370 seconds\n",
      "Memory usage: 0.04 MB \n",
      "\n",
      "Size: 10000\n",
      "Time taken: 4.40057 seconds\n",
      "Memory usage: 0.08 MB \n",
      "\n",
      "Size: 15000\n",
      "Time taken: 9.93018 seconds\n",
      "Memory usage: 0.11 MB \n",
      "\n",
      "Size: 20000\n",
      "Time taken: 17.18827 seconds\n",
      "Memory usage: 0.15 MB \n",
      "\n",
      "Size: 25000\n",
      "Time taken: 26.00705 seconds\n",
      "Memory usage: 0.19 MB \n",
      "\n",
      "Size: 30000\n",
      "Time taken: 39.57150 seconds\n",
      "Memory usage: 0.23 MB \n",
      "\n",
      "Size: 35000\n",
      "Time taken: 54.79031 seconds\n",
      "Memory usage: 0.27 MB \n",
      "\n",
      "Size: 40000\n",
      "Time taken: 66.39770 seconds\n",
      "Memory usage: 0.31 MB \n",
      "\n"
     ]
    }
   ],
   "source": [
    "# Example usage:\n",
    "sizes = [5000, 10000, 15000, 20000, 25000, 30000, 35000, 40000]\n",
    "\n",
    "size_ls = []\n",
    "time_ls = []\n",
    "memory_ls = []\n",
    "\n",
    "for size in sizes:\n",
    "    # Instantiate class and call time_and_space() for the given sizes\n",
    "    sorter = SelectionSort(size)\n",
    "    time_taken, memory_usage = sorter.get_time_and_space()\n",
    "\n",
    "    print(f'Size: {size}')\n",
    "    print(f'Time taken: {time_taken:.5f} seconds')\n",
    "    print(f'Memory usage: {memory_usage / (1024 * 1024):.2f} MB \\n') # (1024 * 1024) to convert to MB\n",
    "    \n",
    "    # Append results\n",
    "    size_ls.append(size)\n",
    "    time_ls.append(time_taken)\n",
    "    memory_ls.append(memory_usage)"
   ]
  },
  {
   "cell_type": "code",
   "execution_count": 36,
   "id": "1d7d1dc1",
   "metadata": {},
   "outputs": [
    {
     "name": "stdout",
     "output_type": "stream",
     "text": [
      "[5000, 10000, 15000, 20000, 25000, 30000, 35000, 40000]\n",
      "[1.0837, 4.40057, 9.93018, 17.18827, 26.00705, 39.5715, 54.79031, 66.3977]\n",
      "[0.04, 0.08, 0.11, 0.15, 0.19, 0.23, 0.27, 0.31]\n"
     ]
    }
   ],
   "source": [
    "time_ls = [round(i, 5) for i in time_ls]\n",
    "memory_ls = [round(i / (1024 * 1024), 2) for i in memory_ls] # Divide by 1024 * 1024 to convert to MB\n",
    "\n",
    "print(size_ls)\n",
    "print(time_ls)\n",
    "print(memory_ls)"
   ]
  },
  {
   "cell_type": "code",
   "execution_count": 37,
   "id": "4b27139a",
   "metadata": {},
   "outputs": [
    {
     "data": {
      "text/plain": [
       "array([[<Axes: xlabel='Sizes'>, <Axes: xlabel='Sizes'>]], dtype=object)"
      ]
     },
     "execution_count": 37,
     "metadata": {},
     "output_type": "execute_result"
    },
    {
     "data": {
      "image/png": "[encoded data removed]",
      "text/plain": [
       "<Figure size 1200x400 with 2 Axes>"
      ]
     },
     "metadata": {},
     "output_type": "display_data"
    }
   ],
   "source": [
    "# Resource: https://pandas.pydata.org/docs/user_guide/visualization.html\n",
    "results = {'Sizes': size_ls,\n",
    "           'Time (S)': time_ls,\n",
    "           'Memory (MB)': memory_ls}\n",
    "\n",
    "results = pd.DataFrame(results)\n",
    "results.set_index('Sizes', inplace=True)\n",
    "results.plot(subplots=True, layout=(1, 2), figsize=(12, 4))"
   ]
  },
  {
   "cell_type": "markdown",
   "id": "7924f8d0",
   "metadata": {},
   "source": [
    "Finding Execution Times of Python Code & Scripts\n",
    "https://www.youtube.com/watch?v=99gvqZ-xEgo"
   ]
  },
  {
   "cell_type": "markdown",
   "id": "ee1ee1c9",
   "metadata": {},
   "source": [
    "## Task 2.3 - Sub-strings\n",
    "### Reconstruct Python's `Find()`\n",
    "- Objective is to investigate the time and space needed for \"a comparison of Python's find() method and your loop‑based implementation of a method that checks if one string is a substring of another\""
   ]
  },
  {
   "cell_type": "code",
   "execution_count": 38,
   "id": "9a8d7897",
   "metadata": {},
   "outputs": [],
   "source": [
    "chars_ls = list('abcdefghijklmnopqrstuvwxyz')\n",
    "chars = np.array(chars_ls)\n",
    "\n",
    "class Find_Substring:\n",
    "    def __init__(self, size):\n",
    "        self.size = size\n",
    "        \n",
    "    def run_find_substring(self):\n",
    "        \n",
    "        # Could possibly keep these 2 lines outside find_substring_index() function --> same as selection_sort\n",
    "        # def find_substring_index(string, substring)\n",
    "        string = ''.join(np.random.choice(chars, size=self.size))\n",
    "        substring = ''.join(np.random.choice(chars, size=2))\n",
    "    \n",
    "        for i in range(len(string)):\n",
    "            if string[i:i + len(substring)] == substring:\n",
    "                return i\n",
    "        return 'Not found'\n",
    "    \n",
    "    def get_time_and_space(self):\n",
    "        \"\"\"\n",
    "        Investigates the time and space needed for the find_substring_index2 function.\n",
    "        \"\"\"\n",
    "        # Measure time taken\n",
    "        start_time = time.time()\n",
    "        self.run_find_substring()\n",
    "        end_time = time.time()\n",
    "        time_taken = end_time - start_time\n",
    "        \n",
    "        # Measure space usage\n",
    "        memory_usage = sys.getsizeof(self.run_find_substring())\n",
    "        \n",
    "        return time_taken, memory_usage"
   ]
  },
  {
   "cell_type": "code",
   "execution_count": 39,
   "id": "9b22dce9",
   "metadata": {},
   "outputs": [],
   "source": [
    "example = Find_Substring(1000)"
   ]
  },
  {
   "cell_type": "code",
   "execution_count": 40,
   "id": "1dd33721",
   "metadata": {},
   "outputs": [
    {
     "data": {
      "text/plain": [
       "462"
      ]
     },
     "execution_count": 40,
     "metadata": {},
     "output_type": "execute_result"
    }
   ],
   "source": [
    "example.run_find_substring()"
   ]
  },
  {
   "cell_type": "code",
   "execution_count": 41,
   "id": "ea513f51",
   "metadata": {},
   "outputs": [
    {
     "data": {
      "text/plain": [
       "(0.0015139579772949219, 28)"
      ]
     },
     "execution_count": 41,
     "metadata": {},
     "output_type": "execute_result"
    }
   ],
   "source": [
    "example.get_time_and_space()"
   ]
  },
  {
   "cell_type": "code",
   "execution_count": 42,
   "id": "71b82702",
   "metadata": {},
   "outputs": [
    {
     "name": "stdout",
     "output_type": "stream",
     "text": [
      "Size: 10000000\n",
      "Time taken: 1.67 seconds\n",
      "Memory usage: 28 \n",
      "\n",
      "Size: 20000000\n",
      "Time taken: 3.52 seconds\n",
      "Memory usage: 28 \n",
      "\n",
      "Size: 30000000\n",
      "Time taken: 5.38 seconds\n",
      "Memory usage: 28 \n",
      "\n",
      "Size: 40000000\n",
      "Time taken: 7.32 seconds\n",
      "Memory usage: 28 \n",
      "\n",
      "Size: 50000000\n",
      "Time taken: 9.38 seconds\n",
      "Memory usage: 28 \n",
      "\n",
      "Size: 60000000\n",
      "Time taken: 11.29 seconds\n",
      "Memory usage: 28 \n",
      "\n",
      "Size: 70000000\n",
      "Time taken: 13.61 seconds\n",
      "Memory usage: 28 \n",
      "\n",
      "Size: 80000000\n",
      "Time taken: 15.77 seconds\n",
      "Memory usage: 28 \n",
      "\n"
     ]
    }
   ],
   "source": [
    "# Example usage:\n",
    "sizes = [10000000, 20000000, 30000000, 40000000, 50000000, 60000000, 70000000, 80000000]\n",
    "\n",
    "size_ls = []\n",
    "time_ls = []\n",
    "memory_ls = []\n",
    "\n",
    "for size in sizes:\n",
    "    # Instantiate class and call get_time_and_space() for the given sizes\n",
    "    find_substring = Find_Substring(size)\n",
    "    time_taken, memory_usage = find_substring.get_time_and_space()\n",
    "    \n",
    "    print(f'Size: {size}')\n",
    "    print(f'Time taken: {time_taken:.2f} seconds')\n",
    "    print('Memory usage:', memory_usage, '\\n')\n",
    "    \n",
    "    # Append results\n",
    "    size_ls.append(size)\n",
    "    time_ls.append(time_taken)\n",
    "    memory_ls.append(memory_usage)"
   ]
  },
  {
   "cell_type": "code",
   "execution_count": 43,
   "id": "b11c6a7e",
   "metadata": {},
   "outputs": [
    {
     "data": {
      "text/plain": [
       "[1.67, 3.52, 5.38, 7.32, 9.38, 11.29, 13.61, 15.77]"
      ]
     },
     "execution_count": 43,
     "metadata": {},
     "output_type": "execute_result"
    }
   ],
   "source": [
    "time_ls = [round(i, 2) for i in time_ls]\n",
    "time_ls"
   ]
  },
  {
   "cell_type": "code",
   "execution_count": 44,
   "id": "6288904d",
   "metadata": {},
   "outputs": [
    {
     "data": {
      "text/plain": [
       "array([[<Axes: xlabel='Sizes'>, <Axes: xlabel='Sizes'>]], dtype=object)"
      ]
     },
     "execution_count": 44,
     "metadata": {},
     "output_type": "execute_result"
    },
    {
     "data": {
      "image/png": "[encoded data removed]",
      "text/plain": [
       "<Figure size 1200x400 with 2 Axes>"
      ]
     },
     "metadata": {},
     "output_type": "display_data"
    }
   ],
   "source": [
    "# Resource: https://pandas.pydata.org/docs/user_guide/visualization.html\n",
    "results = {'Sizes': size_ls,\n",
    "           'Time (S)': time_ls,\n",
    "           'Memory (MB)': memory_ls}\n",
    "\n",
    "results = pd.DataFrame(results)\n",
    "results.set_index('Sizes', inplace=True)\n",
    "results.plot(subplots=True, layout=(1, 2), figsize=(12, 4))"
   ]
  },
  {
   "cell_type": "code",
   "execution_count": null,
   "id": "1e853384",
   "metadata": {},
   "outputs": [],
   "source": []
  }
 ],
 "metadata": {
  "kernelspec": {
   "display_name": "Python 3 (ipykernel)",
   "language": "python",
   "name": "python3"
  },
  "language_info": {
   "codemirror_mode": {
    "name": "ipython",
    "version": 3
   },
   "file_extension": ".py",
   "mimetype": "text/x-python",
   "name": "python",
   "nbconvert_exporter": "python",
   "pygments_lexer": "ipython3",
   "version": "3.11.5"
  }
 },
 "nbformat": 4,
 "nbformat_minor": 5
}
